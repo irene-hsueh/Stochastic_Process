{
 "cells": [
  {
   "cell_type": "markdown",
   "metadata": {},
   "source": [
    "# Python Homework 6\n",
    "\n",
    "**Release date:** Friday, Nov 15th <br>\n",
    "**Due date:** Friday, __Nov 29st__, 11:59 p.m. via GauchoSpace\n",
    "\n",
    "**Instruction:** Please upload your jupyter notebook on GauchoSpace with filename \"PythonHW6_YOURPERMNUMBER.ipynb\" and a pdf or html file."
   ]
  },
  {
   "cell_type": "markdown",
   "metadata": {},
   "source": [
    "__Background:__ In mathematical finance, Markov chains are used to model the default risk of a company or country (more specifically, the default of a company's or country's liability like a corporate or government bond - see e.g. PSTAT 171 and PSTAT 170). \n",
    "\n",
    "Rating agencies (like <i>Standard & Poor’s</i>, <i>Moody’s</i>, <i>Fitch</i>) rate the financial stability of a company and classify them according to different classes. A possible classification may range from 'AAA' for debitors with a very good credit rating to 'CCC' for debitors which are very likely to delay in paying a debt; and 'D' for those debitors which can't satisfy their financial liabilities anymore (in other words, they are default). \n",
    "\n",
    "The yearly credit rating of a company can be modeled as a Markov chain $(X_n)_{n=0,1,2,\\ldots}$ with state space\n",
    "\n",
    "$$ \\mathcal{S} = \\{ AAA,\\, AA,\\, A,\\, BBB,\\, BB,\\, B,\\, CCC,\\, D \\} $$\n",
    "\n",
    "where $X_n$ represents the credit rating class of a company in the $n$-th year. The transition probabilities are given by\n",
    "\n",
    "\\begin{equation*}\n",
    "\\begin{array}{ccccccccc}\n",
    " & AAA & AA & A & BBB & BB & B & CCC & D \\\\\n",
    " AAA & 92.07 & 7.09 & 0.63 & 0.15 & 0.06 & 0.00 & 0.00 & 0.00 \\\\ \n",
    " AA & 0.62 & 90.84 & 7.76 & 0.59 & 0.06 & 0.10 & 0.02 & 0.01 \\\\\n",
    " A & 0.05 & 2.09 & 91.38 & 5.79 & 0.44 & 0.16 & 0.04 & 0.05 \\\\\n",
    " BBB & 0.03 & 0.21 & 4.10 & 89.37 & 4.82 & 0.86 & 0.24 & 0.37 \\\\\n",
    " BB & 0.03 & 0.08 & 0.40 & 5.54 & 83.24 & 8.15 & 1.11 & 1.45 \\\\\n",
    " B & 0.00 & 0.08 & 0.27 & 0.34 & 5.39 & 82.41 & 4.92 & 6.59 \\\\\n",
    " CCC & 0.10 & 0.00 & 0.29 & 0.58 & 1.55 & 10.54 & 52.80 & 34.14 \\\\\n",
    " D & 0.00 & 0.00 & 0.00 & 0.00 & 0.00 & 0.00 & 0.00 & 100.0\n",
    "\\end{array} \n",
    "\\end{equation*}\n",
    "\n",
    "<i>Remark</i>: For your implementations below, you can label the different states from $0$ to $7$, where $0$ represents state $AAA$, $1$ represents state $AA$, and so on."
   ]
  },
  {
   "cell_type": "markdown",
   "metadata": {},
   "source": [
    "As usual, we start with loading some packages:"
   ]
  },
  {
   "cell_type": "code",
   "execution_count": 4,
   "metadata": {},
   "outputs": [],
   "source": [
    "import numpy as np\n",
    "import matplotlib.pyplot as plt"
   ]
  },
  {
   "cell_type": "markdown",
   "metadata": {},
   "source": [
    "## Problem 1 (3 points)\n",
    "\n",
    "1. Implement the transition probability matrix $P$ from above as a two dimensional <tt>numpy.array()</tt>."
   ]
  },
  {
   "cell_type": "code",
   "execution_count": 5,
   "metadata": {},
   "outputs": [
    {
     "name": "stdout",
     "output_type": "stream",
     "text": [
      "[[9.207e-01 7.090e-02 6.300e-03 1.500e-03 6.000e-04 0.000e+00 0.000e+00\n",
      "  0.000e+00]\n",
      " [6.200e-03 9.084e-01 7.760e-02 5.900e-03 6.000e-04 1.000e-03 2.000e-04\n",
      "  1.000e-04]\n",
      " [5.000e-04 2.090e-02 9.138e-01 5.790e-02 4.400e-03 1.600e-03 4.000e-04\n",
      "  5.000e-04]\n",
      " [3.000e-04 2.100e-03 4.100e-02 8.937e-01 4.820e-02 8.600e-03 2.400e-03\n",
      "  3.700e-03]\n",
      " [3.000e-04 8.000e-04 4.000e-03 5.540e-02 8.324e-01 8.150e-02 1.110e-02\n",
      "  1.450e-02]\n",
      " [0.000e+00 8.000e-04 2.700e-03 3.400e-03 5.390e-02 8.241e-01 4.920e-02\n",
      "  6.590e-02]\n",
      " [1.000e-03 0.000e+00 2.900e-03 5.800e-03 1.550e-02 1.054e-01 5.280e-01\n",
      "  3.414e-01]\n",
      " [0.000e+00 0.000e+00 0.000e+00 0.000e+00 0.000e+00 0.000e+00 0.000e+00\n",
      "  1.000e+00]]\n"
     ]
    }
   ],
   "source": [
    "# WRITE YOUR OWN CODE HERE! \n",
    "P = np.array([[92.07,7.09,0.63,0.15,0.06,0.00,0.00,0.00],\n",
    "[0.62,90.84,7.76,0.59,0.06,0.10,0.02,0.01],\n",
    "[0.05,2.09,91.38,5.79,0.44,0.16,0.04,0.05],\n",
    "[0.03,0.21,4.10,89.37,4.82,0.86,0.24,0.37],\n",
    "[0.03,0.08,0.40,5.54,83.24,8.15,1.11,1.45],\n",
    "[0.00,0.08,0.27,0.34,5.39,82.41,4.92,6.59],\n",
    "[0.10,0.00,0.29,0.58,1.55,10.54,52.80,34.14],\n",
    "[0.00,0.00,0.00,0.00,0.00,0.00,0.00,100.0]])\n",
    "P = P/100 # sum of elements of a transition matrix should be 1\n",
    "print(P)"
   ]
  },
  {
   "cell_type": "markdown",
   "metadata": {},
   "source": [
    "2. Provide the probability vector for the transition probabilities from state 3 to all other states 0, 1, 2,..., 7"
   ]
  },
  {
   "cell_type": "code",
   "execution_count": 6,
   "metadata": {},
   "outputs": [
    {
     "name": "stdout",
     "output_type": "stream",
     "text": [
      "[3.000e-04 2.100e-03 4.100e-02 8.937e-01 4.820e-02 8.600e-03 2.400e-03\n",
      " 3.700e-03]\n"
     ]
    }
   ],
   "source": [
    "# WRITE YOUR OWN CODE HERE! \n",
    "print(P[3,:])"
   ]
  },
  {
   "cell_type": "markdown",
   "metadata": {},
   "source": [
    "3. Use suitable Matrix operations to <u>compute the probability</u> that a company which is rated with 'AAA' today will <u>not</u> default during the next 8 years. "
   ]
  },
  {
   "cell_type": "code",
   "execution_count": 20,
   "metadata": {},
   "outputs": [
    {
     "name": "stdout",
     "output_type": "stream",
     "text": [
      "0.9982299711480223\n"
     ]
    }
   ],
   "source": [
    "# WRITE YOUR OWN CODE HERE! \n",
    "\n",
    "## HINT: YOU MAY WANT TO USE np.linalg.matrix_power() TO COMPUTE POWERS OF A MATRIX\n",
    "temp = np.linalg.matrix_power(P,8)\n",
    "prob = 1 - temp[0,7]\n",
    "print(prob)\n",
    "# prob is the required probability"
   ]
  },
  {
   "cell_type": "markdown",
   "metadata": {},
   "source": [
    "## Problem 2 (4 points)\n",
    "\n",
    "Write a function called <tt>simulateRating(...)</tt> which simulates the Markov chain. \n",
    "\n",
    "Input:\n",
    "* <tt>startRating</tt>: Initial state of the Markov chain at time 0\n",
    "* <tt>numberOfSteps</tt>: Number of steps $n$\n",
    "* <tt>P</tt>: Transition matrix\n",
    "\n",
    "Output:\n",
    "* <tt>samplePath</tt>: An array of length $n$ with the values $X_0, X_1, \\ldots, X_n$."
   ]
  },
  {
   "cell_type": "code",
   "execution_count": 43,
   "metadata": {},
   "outputs": [],
   "source": [
    "def simulateRating(startRating, numberOfSteps, P):\n",
    "    \n",
    "    start = startRating\n",
    "    for n in np.arange(numberOfSteps):\n",
    "        end = np.random.choice(np.array(8,1,P = P[start])/100)\n",
    "    start = int(end)\n",
    "    return start\n",
    "\n",
    "\n",
    "    return samplePath"
   ]
  },
  {
   "cell_type": "code",
   "execution_count": 44,
   "metadata": {},
   "outputs": [
    {
     "ename": "TypeError",
     "evalue": "data type not understood",
     "output_type": "error",
     "traceback": [
      "\u001b[0;31m---------------------------------------------------------------------------\u001b[0m",
      "\u001b[0;31mTypeError\u001b[0m                                 Traceback (most recent call last)",
      "\u001b[0;32m<ipython-input-44-3528859fc94f>\u001b[0m in \u001b[0;36m<module>\u001b[0;34m\u001b[0m\n\u001b[1;32m      1\u001b[0m \u001b[0;31m## TEST YOUR FUNCTION HERE\u001b[0m\u001b[0;34m\u001b[0m\u001b[0;34m\u001b[0m\u001b[0;34m\u001b[0m\u001b[0m\n\u001b[0;32m----> 2\u001b[0;31m \u001b[0msimulateRating\u001b[0m\u001b[0;34m(\u001b[0m \u001b[0mstartRating\u001b[0m \u001b[0;34m=\u001b[0m \u001b[0;36m0\u001b[0m\u001b[0;34m,\u001b[0m \u001b[0mnumberOfSteps\u001b[0m \u001b[0;34m=\u001b[0m \u001b[0;36m10\u001b[0m\u001b[0;34m,\u001b[0m \u001b[0mP\u001b[0m \u001b[0;34m=\u001b[0m \u001b[0mP\u001b[0m\u001b[0;34m)\u001b[0m\u001b[0;34m\u001b[0m\u001b[0;34m\u001b[0m\u001b[0m\n\u001b[0m",
      "\u001b[0;32m<ipython-input-43-27f3818aecdc>\u001b[0m in \u001b[0;36msimulateRating\u001b[0;34m(startRating, numberOfSteps, P)\u001b[0m\n\u001b[1;32m      3\u001b[0m     \u001b[0mstart\u001b[0m \u001b[0;34m=\u001b[0m \u001b[0mstartRating\u001b[0m\u001b[0;34m\u001b[0m\u001b[0;34m\u001b[0m\u001b[0m\n\u001b[1;32m      4\u001b[0m     \u001b[0;32mfor\u001b[0m \u001b[0mn\u001b[0m \u001b[0;32min\u001b[0m \u001b[0mnp\u001b[0m\u001b[0;34m.\u001b[0m\u001b[0marange\u001b[0m\u001b[0;34m(\u001b[0m\u001b[0mnumberOfSteps\u001b[0m\u001b[0;34m)\u001b[0m\u001b[0;34m:\u001b[0m\u001b[0;34m\u001b[0m\u001b[0;34m\u001b[0m\u001b[0m\n\u001b[0;32m----> 5\u001b[0;31m         \u001b[0mend\u001b[0m \u001b[0;34m=\u001b[0m \u001b[0mnp\u001b[0m\u001b[0;34m.\u001b[0m\u001b[0mrandom\u001b[0m\u001b[0;34m.\u001b[0m\u001b[0mchoice\u001b[0m\u001b[0;34m(\u001b[0m\u001b[0mnp\u001b[0m\u001b[0;34m.\u001b[0m\u001b[0marray\u001b[0m\u001b[0;34m(\u001b[0m\u001b[0;36m8\u001b[0m\u001b[0;34m,\u001b[0m\u001b[0;36m1\u001b[0m\u001b[0;34m,\u001b[0m\u001b[0mP\u001b[0m \u001b[0;34m=\u001b[0m \u001b[0mP\u001b[0m\u001b[0;34m[\u001b[0m\u001b[0mstart\u001b[0m\u001b[0;34m]\u001b[0m\u001b[0;34m)\u001b[0m\u001b[0;34m/\u001b[0m\u001b[0;36m100\u001b[0m\u001b[0;34m)\u001b[0m\u001b[0;34m\u001b[0m\u001b[0;34m\u001b[0m\u001b[0m\n\u001b[0m\u001b[1;32m      6\u001b[0m     \u001b[0mstart\u001b[0m \u001b[0;34m=\u001b[0m \u001b[0mint\u001b[0m\u001b[0;34m(\u001b[0m\u001b[0mend\u001b[0m\u001b[0;34m)\u001b[0m\u001b[0;34m\u001b[0m\u001b[0;34m\u001b[0m\u001b[0m\n\u001b[1;32m      7\u001b[0m     \u001b[0;32mreturn\u001b[0m \u001b[0mstart\u001b[0m\u001b[0;34m\u001b[0m\u001b[0;34m\u001b[0m\u001b[0m\n",
      "\u001b[0;31mTypeError\u001b[0m: data type not understood"
     ]
    }
   ],
   "source": [
    "## TEST YOUR FUNCTION HERE\n",
    "simulateRating( startRating = 0, numberOfSteps = 10, P = P)"
   ]
  },
  {
   "cell_type": "markdown",
   "metadata": {},
   "source": [
    "## Problem 3 (3 points)\n",
    "\n",
    "Write a code to simulate and plot <tt>numPaths = 5</tt> simulated paths of length <tt>lengthPath = 100</tt> with staring value <tt>startRating = 2</tt> in one plot."
   ]
  },
  {
   "cell_type": "code",
   "execution_count": 25,
   "metadata": {},
   "outputs": [],
   "source": [
    "# WRITE YOUR OWN CODE HERE! FEEL FREE TO INSERT MORE CELLS!\n",
    "# ADD SOME COMMENTS TO YOUR CODE!\n",
    "numPaths = 5\n",
    "lengthPath = 100\n",
    "startRating = 2\n"
   ]
  },
  {
   "cell_type": "code",
   "execution_count": 26,
   "metadata": {},
   "outputs": [
    {
     "data": {
      "image/png": "[encoded data removed]",
      "text/plain": [
       "<Figure size 720x360 with 1 Axes>"
      ]
     },
     "metadata": {
      "needs_background": "light"
     },
     "output_type": "display_data"
    }
   ],
   "source": [
    "# COMPLETE/MODIFY THE PLOT COMMANDS ACCORDINGLY\n",
    "\n",
    "plt.figure( figsize=( 10, 5 ) )\n",
    "\n",
    "plt.title('Simulated rating paths')\n",
    "d\n",
    "plt.ylabel('Credit Ratings')\n",
    "plt.xlabel('Year')\n",
    "\n",
    "plt.ylim( -1, 8 )\n",
    "ratings = [ '', 'AAA', 'AA', 'A', 'BBB', 'BB', 'B', 'CCC/C', 'D', '' ]\n",
    "plt.yticks( range( -1, 9 ), ratings )\n",
    "\n",
    "plt.show()"
   ]
  },
  {
   "cell_type": "code",
   "execution_count": null,
   "metadata": {},
   "outputs": [],
   "source": []
  },
  {
   "cell_type": "code",
   "execution_count": null,
   "metadata": {},
   "outputs": [],
   "source": []
  }
 ],
 "metadata": {
  "anaconda-cloud": {},
  "kernelspec": {
   "display_name": "Python 3",
   "language": "python",
   "name": "python3"
  },
  "language_info": {
   "codemirror_mode": {
    "name": "ipython",
    "version": 3
   },
   "file_extension": ".py",
   "mimetype": "text/x-python",
   "name": "python",
   "nbconvert_exporter": "python",
   "pygments_lexer": "ipython3",
   "version": "3.7.3"
  }
 },
 "nbformat": 4,
 "nbformat_minor": 2
}
