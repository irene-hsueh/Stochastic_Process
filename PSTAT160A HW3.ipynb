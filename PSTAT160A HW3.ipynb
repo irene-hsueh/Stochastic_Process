{
 "cells": [
  {
   "cell_type": "markdown",
   "metadata": {},
   "source": [
    "# Python Homework 3\n",
    "\n",
    "**Release date:** Friday, October 18th <br>\n",
    "**Due date:** Friday, __Nov 1st__, 11:59 p.m. via GauchoSpace\n",
    "\n",
    "**Instruction:** Please upload your jupyter notebook on GauchoSpace with filename \"PythonHW3_YOURPERMNUMBER.ipynb\".\n"
   ]
  },
  {
   "cell_type": "markdown",
   "metadata": {},
   "source": [
    "In this Python Homework you are asked to implement two simulations related to problems discussed in class.\n"
   ]
  },
  {
   "cell_type": "markdown",
   "metadata": {},
   "source": [
    "As usual, start with loading some packages:"
   ]
  },
  {
   "cell_type": "code",
   "execution_count": 54,
   "metadata": {},
   "outputs": [],
   "source": [
    "import numpy as np\n",
    "import math\n"
   ]
  },
  {
   "cell_type": "markdown",
   "metadata": {},
   "source": [
    "## Problem 1 (5 Points)\n",
    "\n",
    "Since the beginning of Spring quarter Julie goes every day to Woodstock Pizza, orders a slice of pizza, and picks a topping - pepper, pepperoni, pineapple, prawns, or prosciutto - unifromly at random. "
   ]
  },
  {
   "cell_type": "markdown",
   "metadata": {},
   "source": [
    "1. Implement a simulator which uniformly samples from one topping:"
   ]
  },
  {
   "cell_type": "code",
   "execution_count": 55,
   "metadata": {},
   "outputs": [],
   "source": [
    "from enum import Enum\n",
    "from random import randint\n",
    "\n",
    "# define an enum of toppings\n",
    "class Topping(Enum):\n",
    "    pepper = 1\n",
    "    pepperoni = 2\n",
    "    pineapple = 3\n",
    "    prawns = 4\n",
    "    prosciutto = 5\n",
    "    \n",
    "# simulation of julie ordering\n",
    "def simulation():\n",
    "    # randomly generate a number from 1 to 5 to simulate toppings\n",
    "    num = randint(1, 5)\n",
    "    # return the selected topping\n",
    "    return Topping(num)\n",
    "\n"
   ]
  },
  {
   "cell_type": "markdown",
   "metadata": {},
   "source": [
    "2. On the day that Julie first picks pineapple, find the empricial mean of the number of prior days in which she picked pepperoni by running 10000 simulations.\n",
    "\n"
   ]
  },
  {
   "cell_type": "code",
   "execution_count": 56,
   "metadata": {},
   "outputs": [],
   "source": [
    "# returns mean when julie select pepperoni before pineapple out of 10000 simulation\n",
    "def pep_before_pineapple():\n",
    "    # calculate numbers of time julie select pepperoni before pineapple\n",
    "    number = 0\n",
    "    # run simulation for 10000 times\n",
    "    for i in range(10000):\n",
    "        topping = simulation()\n",
    "        # run the simulation till first pineapple topping\n",
    "        while topping != Topping.pineapple:\n",
    "            # check if pepperoni\n",
    "            if topping == Topping.pepperoni:\n",
    "                # count of pepperoni\n",
    "                number += 1\n",
    "            topping = simulation()\n",
    "    # calculate mean\n",
    "    empiricalmean = number / 10000\n",
    "    # return the mean\n",
    "    return empiricalmean\n",
    " \n",
    "\n",
    "\n"
   ]
  },
  {
   "cell_type": "code",
   "execution_count": 57,
   "metadata": {},
   "outputs": [
    {
     "name": "stdout",
     "output_type": "stream",
     "text": [
      "The empirical mean is: 1.0047\n"
     ]
    }
   ],
   "source": [
    "# print result  \n",
    "print(\"The empirical mean is:\",pep_before_pineapple())\n",
    "\n",
    "\n"
   ]
  },
  {
   "cell_type": "markdown",
   "metadata": {},
   "source": [
    "## Problem 2 (5 Points)\n",
    "\n",
    "Recall Problem 3.3:\n",
    "\n",
    "A health insurance will pay for a medical expense subject to a USD 100 deductible. Assume that the amount of the expense is exponentially distributed with mean USD 500.\n",
    "\n",
    "Compute the empirical mean and emprical standard deviation of the payout by the insurance company by using 100000 samples."
   ]
  },
  {
   "cell_type": "code",
   "execution_count": 58,
   "metadata": {},
   "outputs": [
    {
     "name": "stdout",
     "output_type": "stream",
     "text": [
      "The empirical mean is: 399.7540400931423\n",
      "Standard Deviation: 498.1434756883095\n"
     ]
    }
   ],
   "source": [
    "# WRITE YOUR OWN CODE HERE! FEEL FREE TO INSERT MORE CELLS!\n",
    "# ADD SOME COMMENTS TO YOUR CODE!\n",
    "expense_amount = np.random.exponential( size = 100000, scale = 500)\n",
    "\n",
    "# Subtract 100 from the expense\n",
    "for i in range(len(expense_amount)):\n",
    "\n",
    "    expense_amount[i] -= 100\n",
    "\n",
    "mean = np.mean(expense_amount)\n",
    "standard_deviation = np.std(expense_amount)\n",
    "print(\"The empirical mean is:\", mean )\n",
    "print(\"Standard Deviation:\", standard_deviation)"
   ]
  },
  {
   "cell_type": "code",
   "execution_count": null,
   "metadata": {},
   "outputs": [],
   "source": []
  },
  {
   "cell_type": "code",
   "execution_count": null,
   "metadata": {},
   "outputs": [],
   "source": []
  },
  {
   "cell_type": "code",
   "execution_count": null,
   "metadata": {},
   "outputs": [],
   "source": []
  }
 ],
 "metadata": {
  "kernelspec": {
   "display_name": "Python 3",
   "language": "python",
   "name": "python3"
  },
  "language_info": {
   "codemirror_mode": {
    "name": "ipython",
    "version": 3
   },
   "file_extension": ".py",
   "mimetype": "text/x-python",
   "name": "python",
   "nbconvert_exporter": "python",
   "pygments_lexer": "ipython3",
   "version": "3.7.3"
  }
 },
 "nbformat": 4,
 "nbformat_minor": 2
}
