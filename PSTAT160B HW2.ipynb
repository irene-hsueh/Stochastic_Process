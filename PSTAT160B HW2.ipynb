{
 "cells": [
  {
   "cell_type": "markdown",
   "metadata": {},
   "source": [
    "# Python Homework 2\n",
    "\n",
    "**Release date:** Friday January 29<br>\n",
    "**Due date:** Friday, __Frebruary 12 (!)__, at midnight via <font color=\"blue\">Gradescope</font> \n",
    "\n",
    "**Instruction:** Please upload your jupyter notebook on <font color=\"blue\">Gradescope</font> with filename __PythonHW2_YOURPERMNUMBER.ipynb__.\n"
   ]
  },
  {
   "cell_type": "markdown",
   "metadata": {},
   "source": [
    "Load some packages:"
   ]
  },
  {
   "cell_type": "code",
   "execution_count": 1,
   "metadata": {},
   "outputs": [],
   "source": [
    "import numpy as np\n",
    "import matplotlib.pyplot as plt\n",
    "\n",
    "import scipy as sp\n",
    "import scipy.stats as st"
   ]
  },
  {
   "cell_type": "markdown",
   "metadata": {},
   "source": [
    "## Problem 1 (10 Points)\n",
    "\n",
    "Consider the continuous-time __Registration Line Markov Chain__ from Example 2.13 (Lecture 7).\n",
    "\n",
    "1. Implement a simulation of this Markov chain on the time interval $[0,60]$. "
   ]
  },
  {
   "cell_type": "code",
   "execution_count": 2,
   "metadata": {},
   "outputs": [],
   "source": [
    "# define some help functions\n",
    "\n",
    "def QtoPt(Q):\n",
    "    \"\"\"\n",
    "    Compute the transition probability matrix Pt for embedded Markov chain\n",
    "    from generator matrix Q\n",
    "    \n",
    "    Args:\n",
    "        Q: generator matrix\n",
    "    \n",
    "    Ret:\n",
    "        Pt: transition probability matrix for embedded Markov chain\n",
    "    \"\"\"\n",
    "    # get the holding time parameter\n",
    "    q = -np.copy(np.diag(Q))\n",
    "    \n",
    "    ds = q==0  # flags of dead states with zero holding time parameter\n",
    "       \n",
    "    # deal with the situation of the zero holding time\n",
    "    q[ds] = 1\n",
    "    \n",
    "    # compute the embedded transition probability matrix\n",
    "    Pt = Q/(q.reshape(-1,1))\n",
    "    \n",
    "    # process the values on the diagonal of the matrix\n",
    "    Pt[np.diag_indices_from(Pt)] = 0\n",
    "    Pt[ds, ds] = 1  # dead states\n",
    "    \n",
    "    return Pt\n",
    "\n",
    "def sim_cmc_interval(Q, s0, interval):\n",
    "    \"\"\"\n",
    "    Simulate continuous-time Markov chain on some interval\n",
    "    \n",
    "    Args:\n",
    "        Q: generator matrix of the continuous-time Markov chain\n",
    "        s0: initial state\n",
    "        interval: (start, end)-tuple represents the time interval\n",
    "    \n",
    "    Ret:\n",
    "        tlist: moments when the transition occurs\n",
    "        slist: experienced states of the process\n",
    "    \"\"\"\n",
    "    Pt = QtoPt(Q)  # transition probability for mbedded Markov chain\n",
    "    \n",
    "    # compute cumulative distribution for embedded Markov chain\n",
    "    cPt = np.cumsum(Pt, axis=1)\n",
    "\n",
    "    # initialize\n",
    "    tstart, tend = interval\n",
    "    t = tstart\n",
    "    state = s0\n",
    "    \n",
    "    # store the initial values\n",
    "    tlist = [t]\n",
    "    slist = [state]\n",
    "    \n",
    "    while t < tend:\n",
    "        # get holding time\n",
    "        htime = st.expon.rvs(scale=-1/Q[state, state])\n",
    "        \n",
    "        # update t\n",
    "        t += htime\n",
    "        \n",
    "        # tranlate the sate with some probability\n",
    "        p = st.uniform.rvs()\n",
    "        state = np.argwhere(p<cPt[state,:])[0][0]\n",
    "    \n",
    "        # store the result\n",
    "        tlist.append(t)\n",
    "        slist.append(state)\n",
    "\n",
    "    tlist[-1] = tend\n",
    "    \n",
    "    return tlist, slist"
   ]
  },
  {
   "cell_type": "code",
   "execution_count": 3,
   "metadata": {},
   "outputs": [],
   "source": [
    "# generator matrix Q from the transitition rate graph\n",
    "Q = np.array([\n",
    "    [-1/4,1/4,0,0,0],\n",
    "    [1/5,-9/20,1/4,0,0],\n",
    "    [0,1/5,-9/20,1/4,0],\n",
    "    [0,0,1/5,-9/20,1/4],\n",
    "    [0,0,0,1/5,-1/5]\n",
    "])\n",
    "\n",
    "# simulate the continuous-time Registration Line Markov Chain\n",
    "tlist, slist = sim_cmc_interval(Q, 0, (0, 60))"
   ]
  },
  {
   "cell_type": "markdown",
   "metadata": {},
   "source": [
    "2. Plot a trajectory of this Markov Chain on $[0,60]$ by using your code from 1.\n",
    "\n",
    "<i>Hint:</i> You can use the <tt>plt.hlines()</tt> command to plot horizontal lines (check also the documentation online)."
   ]
  },
  {
   "cell_type": "code",
   "execution_count": 4,
   "metadata": {},
   "outputs": [
    {
     "data": {
      "image/png": "[encoded data removed]",
      "text/plain": [
       "<Figure size 1152x432 with 1 Axes>"
      ]
     },
     "metadata": {
      "needs_background": "light"
     },
     "output_type": "display_data"
    }
   ],
   "source": [
    "# create a figure and an axis\n",
    "fig, ax = plt.subplots(1, 1, figsize=(16,6))\n",
    "\n",
    "# plot the t - state graph\n",
    "plt.hlines(slist[:-1], tlist[:-1], tlist[1:], colors='k', linestyles='-')\n",
    "plt.vlines(tlist[1:-1], slist[:-2], slist[1:-1], colors='k', linestyles='--')\n",
    "plt.plot(tlist[:-1], slist[:-1], 'ko')\n",
    "\n",
    "# change the major locator of y-axis\n",
    "ax.yaxis.set_major_locator(plt.MultipleLocator(1))\n",
    "\n",
    "# label and title\n",
    "plt.xlabel('t')\n",
    "plt.ylabel('state')\n",
    "plt.title(\"simulation of the continuous-time Registration Line Markov Chain\")\n",
    "\n",
    "plt.show()"
   ]
  },
  {
   "cell_type": "markdown",
   "metadata": {},
   "source": [
    "3. Compute the transition function $P(t)$ at $t = \\pi$.\n",
    "\n",
    "*Hint:* Use a suitable function from the <tt>scipy.linalg</tt> package (check also the documentation online)."
   ]
  },
  {
   "cell_type": "code",
   "execution_count": 5,
   "metadata": {},
   "outputs": [
    {
     "name": "stdout",
     "output_type": "stream",
     "text": [
      "the transition probability P(pi) is\n",
      "[[0.55524989 0.308565   0.10512926 0.02554735 0.00550851]\n",
      " [0.246852   0.3925013  0.24489947 0.08909819 0.02664905]\n",
      " [0.06728272 0.19591958 0.37967644 0.24578083 0.11134043]\n",
      " [0.01308024 0.05702284 0.19662467 0.39747023 0.33580202]\n",
      " [0.00225628 0.01364431 0.07125787 0.26864162 0.64419991]]\n"
     ]
    }
   ],
   "source": [
    "# implement the transition function P(t)\n",
    "P_f = lambda t: sp.linalg.expm(Q*t)\n",
    "\n",
    "print('the transition probability P(pi) is')\n",
    "print(P_f(np.pi))"
   ]
  },
  {
   "cell_type": "markdown",
   "metadata": {},
   "source": [
    "4. Compute the stationary distribution of this continuous-time Markov chain.\n",
    "\n",
    "*Hint:* Use suitable functions from the <tt>numpy.linalg package</tt> (check also the documentation online)."
   ]
  },
  {
   "cell_type": "code",
   "execution_count": 6,
   "metadata": {},
   "outputs": [
    {
     "name": "stdout",
     "output_type": "stream",
     "text": [
      "the stationary distribution of this continuous-time Markov chain is\n",
      "[0.12184674 0.15230842 0.19038553 0.23798191 0.29747739]\n"
     ]
    }
   ],
   "source": [
    "# the stationary distribution of this process is simply given by\n",
    "# pQ = 0 where Q is the generator matrix\n",
    "\n",
    "# compute the stationary distribution\n",
    "s_dist = (sp.linalg.null_space(Q.T)).reshape(-1)\n",
    "s_dist = s_dist/sum(s_dist)\n",
    "\n",
    "print('the stationary distribution of this continuous-time Markov chain is')\n",
    "print(s_dist)"
   ]
  },
  {
   "cell_type": "markdown",
   "metadata": {},
   "source": [
    "## Problem 2 (10 Points)\n",
    "\n",
    "Multistate Markov models are used in medicine to model the course of diseases. A patient may advance into, or recover from, successively more severe stages of a disease until some terminal state. Each stage represents a state of an absorbing continuous-time Markov chain. \n",
    "\n",
    "Bartolomeo et al. (2011) develop such a model to study the progression of liver disease among patients diagnosed with cirrhosis of the liver. The general form of the infinitesimal generator matrix $Q$ for their three-parameter model is\n",
    "\n",
    "$$ Q = \\begin{pmatrix} -(q_{12} + q_{13}) & q_{12} & q_{13} \\\\ 0 & -q_{23} & q_{23} \\\\ 0 & 0 & 0 \\end{pmatrix}  $$\n",
    "\n",
    "where state 1 represents cirrhosis, state 2 denotes liver cancer, and state 3 is death."
   ]
  },
  {
   "cell_type": "markdown",
   "metadata": {},
   "source": [
    "1. Starting from the first stage (\"cirrhosis\"), estimate the mean time to death (i.e. ending up in stage 3) by running 100,000 simulations. Use the transition rates\n",
    "\n",
    "$$ q_{12} = 0.0151, \\quad q_{13} = 0.0071, \\quad q_{23} = 0.0284.$$"
   ]
  },
  {
   "cell_type": "code",
   "execution_count": 7,
   "metadata": {},
   "outputs": [],
   "source": [
    "# define some help functions\n",
    "\n",
    "def sim_cmc_halt(Q, s0, halt):\n",
    "    \"\"\"\n",
    "    Simulate continuous-time Markov chain until reaching the halt state\n",
    "    \n",
    "    Args:\n",
    "        Q: generator matrix of the continuous-time Markov chain\n",
    "        s0: initial state\n",
    "        halt: halt state\n",
    "    \n",
    "    Ret:\n",
    "        tlist: moments when the transition occurs\n",
    "        slist: experienced states of the process\n",
    "    \"\"\"\n",
    "    Pt = QtoPt(Q)  # transition probability for mbedded Markov chain\n",
    "    \n",
    "    # compute cumulative distribution for embedded Markov chain\n",
    "    cPt = np.cumsum(Pt, axis=1)\n",
    "\n",
    "    # initialize\n",
    "    t = 0  # default start time\n",
    "    state = s0\n",
    "    \n",
    "    # store the initial values\n",
    "    tlist = [t]\n",
    "    slist = [state]\n",
    "    \n",
    "    while state != halt:\n",
    "        # get holding time\n",
    "        htime = st.expon.rvs(scale=-1/Q[state, state])\n",
    "        \n",
    "        # update t\n",
    "        t += htime\n",
    "        \n",
    "        # tranlate the sate with some probability\n",
    "        p = st.uniform.rvs()\n",
    "        state = np.argwhere(p<cPt[state,:])[0][0]\n",
    "    \n",
    "        # store the result\n",
    "        tlist.append(t)\n",
    "        slist.append(state)\n",
    "    \n",
    "    return tlist, slist"
   ]
  },
  {
   "cell_type": "code",
   "execution_count": 8,
   "metadata": {},
   "outputs": [
    {
     "name": "stdout",
     "output_type": "stream",
     "text": [
      "the simulated mean time to death is 69.28652401608558\n"
     ]
    }
   ],
   "source": [
    "# transition rate\n",
    "q12, q13, q23 = 0.0151, 0.0071, 0.0284\n",
    "\n",
    "# generator matrix\n",
    "Q = np.array([[-(q12+q13), q12, q13],\n",
    "             [0,-q23,q23],\n",
    "             [0,0,0]])\n",
    "\n",
    "N = 100000  # simulation times\n",
    "\n",
    "# store the results in an array\n",
    "tdeaths = np.empty(N, 'double')\n",
    "\n",
    "# simulate N times\n",
    "for i in range(N):\n",
    "    # get simulation results\n",
    "    tlist, slist = sim_cmc_halt(Q, 0, 2)  # 0 for cirrhosis, 2 for death\n",
    "    \n",
    "    # get the time to death\n",
    "    tdeaths[i] = tlist[-1]\n",
    "    \n",
    "# estimate the mean time to death\n",
    "tdeath_sim = np.mean(tdeaths)\n",
    "\n",
    "print('the simulated mean time to death is', tdeath_sim)"
   ]
  },
  {
   "cell_type": "markdown",
   "metadata": {},
   "source": [
    "2. Compare your approximation from 1. with the exact theoretical mean time to death (implement a suitable formula from class).  "
   ]
  },
  {
   "cell_type": "code",
   "execution_count": 9,
   "metadata": {},
   "outputs": [
    {
     "name": "stdout",
     "output_type": "stream",
     "text": [
      "the theoretical mean time to death is 68.99505138941758 \n",
      "\n",
      "the simulated mean time to death minus the exact theoretical mean time to death is 0.29147262666799634\n"
     ]
    }
   ],
   "source": [
    "# compute the theoretical mean time to death\n",
    "tdeath_theo = 1/(q12+q13)+q12/(q23*(q12+q13))\n",
    "\n",
    "print('the theoretical mean time to death is', tdeath_theo, '\\n')\n",
    "\n",
    "# compare both results\n",
    "print('the simulated mean time to death minus the exact theoretical mean time to death is', tdeath_sim - tdeath_theo)"
   ]
  }
 ],
 "metadata": {
  "kernelspec": {
   "display_name": "Python 3",
   "language": "python",
   "name": "python3"
  },
  "language_info": {
   "codemirror_mode": {
    "name": "ipython",
    "version": 3
   },
   "file_extension": ".py",
   "mimetype": "text/x-python",
   "name": "python",
   "nbconvert_exporter": "python",
   "pygments_lexer": "ipython3",
   "version": "3.7.6"
  }
 },
 "nbformat": 4,
 "nbformat_minor": 2
}
