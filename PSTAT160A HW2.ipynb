{
 "cells": [
  {
   "cell_type": "markdown",
   "metadata": {},
   "source": [
    "## Python Homework 2\n",
    "\n",
    "**Release date:** Friday, October 11th <br>\n",
    "**Due date:** Friday, October 25th, 11:59 p.m. via GauchoSpace\n",
    "\n",
    "**Instruction:** Please upload your jupyter notebook on GauchoSpace with filename \"PythonHW2_YOURPERMNUMBER.ipynb\".\n"
   ]
  },
  {
   "cell_type": "markdown",
   "metadata": {},
   "source": [
    "__Background__:\n",
    "A stochastic model for a car insurance company's total cost of damages from traffic accidents goes back to the work by Van der Lann and Louter, \"A statistical model for the costs of passenger car traffic accidents\", Journal of the Royal Statistical Society (1986).\n",
    "\n",
    "For every $k=1,2,3\\ldots$ we denote by the random variable $X_k$ the US dollar amount of a damage from a policy holder's traffic accident which will occur during the year 2020.\n",
    "\n",
    "We assume that $X_1$, $X_2$,... is an i.i.d. sequence of exponential distributed random variables with an average claim size of \\$1,000 USD.  \n",
    "\n",
    "The (random) total number of accidents $N$ in 2020 is expected to be Poisson distributed with 20 claims on average.\n",
    "\n",
    "It is assumed that the number of accidents is independent of the US dollar amount of damages for each accident. That is, the random variable $N$ is independent of the random variables $X_1$, $X_2$,...\n",
    "\n",
    "The total costs for the insurance company by the end of 2020 will thus be given by the __random sum__ $S_N$ defined as\n",
    "\n",
    "$$S_N = X_1 + X_2 + \\dots + X_N = \\sum_{k = 1}^{N} X_k.$$\n",
    "\n",
    "Note that the total number $N$ of accidents is random!"
   ]
  },
  {
   "cell_type": "markdown",
   "metadata": {},
   "source": [
    "The goal of the current exercise is to approximate the expected total costs $$\\mathbb{E}[S_N]$$ for the insurance company in 2020 via simulations."
   ]
  },
  {
   "cell_type": "markdown",
   "metadata": {},
   "source": [
    "As usual, we start with loading some packages:"
   ]
  },
  {
   "cell_type": "code",
   "execution_count": 30,
   "metadata": {},
   "outputs": [],
   "source": [
    "import numpy as np\n",
    "import math"
   ]
  },
  {
   "cell_type": "markdown",
   "metadata": {},
   "source": [
    "## Step 1: (5 Points)\n",
    "\n",
    "Write a function called <tt>randomSum(...)</tt> which simulates the random variable $S_N$. \n",
    "\n",
    "Input:\n",
    "* <tt>averageClaimSize</tt>: Average USD amount per claim\n",
    "* <tt>averageNumberOfClaims</tt>: Average number of claims/accidents in 2020\n",
    "\n",
    "Output:\n",
    "* <tt>sampleRandomSum</tt>: A single scalar being one sample from the random variable $S_N$\n",
    "\n",
    "<i>Hint:</i> Use build-in functions from the <i>NumPy</i>-package in your code in order to sample from a Poisson distribution and from an exponential distribution!"
   ]
  },
  {
   "cell_type": "code",
   "execution_count": 31,
   "metadata": {},
   "outputs": [],
   "source": [
    "\n",
    "def randomSum(averageClaimSize, averageNumberOfClaims): \n",
    "    # generating a random variable\n",
    "    N = np.random.poisson(lam=averageNumberOfClaims, size=1) \n",
    "    # generating a random variable\n",
    "    X = np.random.exponential(scale=averageClaimSize, size=N) \n",
    "    \n",
    "    return(sum(X))\n",
    "    "
   ]
  },
  {
   "cell_type": "code",
   "execution_count": 32,
   "metadata": {},
   "outputs": [
    {
     "name": "stdout",
     "output_type": "stream",
     "text": [
      "The random sum: 23481.83609442261\n"
     ]
    }
   ],
   "source": [
    "## TEST YOUR FUNCTION HERE\n",
    "r=randomSum(1000,20)\n",
    "print(\"The random sum:\",r)"
   ]
  },
  {
   "cell_type": "markdown",
   "metadata": {},
   "source": [
    "## Step 2: (3 Points)\n",
    "\n",
    "Write a simulator function called <tt>simulator()</tt> which uses the function <tt>randomSum()</tt> from Step 1 to simulate $M \\in \\mathbb{N}$ samples from the random variable $S_N$. \n",
    "\n",
    "Input: \n",
    "* <tt>averageClaimSize</tt>: Average USD amount per claim\n",
    "* <tt>averageNumberOfClaims</tt>: Average number of claims/accidents in 2020\n",
    "* <tt>M</tt>: Number of Simulations\n",
    "\n",
    "Output:\n",
    "* <tt>samples</tt>: An array of length $M$ with samples from the random variable $S_N$."
   ]
  },
  {
   "cell_type": "code",
   "execution_count": 33,
   "metadata": {},
   "outputs": [],
   "source": [
    "def simulator(averageClaimSize, averageNumberOfClaims, M):\n",
    "\n",
    "    #leave a space for \"samples\" in an empty list\n",
    "    samples=[]\n",
    "    for i in range(M):\n",
    "        samples.append(randomSum(averageClaimSize, averageNumberOfClaims))\n",
    "    \n",
    "    return samples"
   ]
  },
  {
   "cell_type": "code",
   "execution_count": 34,
   "metadata": {},
   "outputs": [
    {
     "name": "stdout",
     "output_type": "stream",
     "text": [
      "The random sum are: [11774.284132398769, 15752.706043494962, 22806.65273553313, 14885.841567109845, 15694.365129305184, 15907.345986648383, 14267.460559648685, 11187.579630412145, 34137.24637167713, 13982.556413094826]\n"
     ]
    }
   ],
   "source": [
    "## TEST YOUR FUNCTION HERE\n",
    "simu=simulator(1000,20,10)\n",
    "print(\"The random sum are:\",simu)"
   ]
  },
  {
   "cell_type": "markdown",
   "metadata": {},
   "source": [
    "## Step 3: (2 Points)\n",
    "\n",
    "As we will show in class, it holds via the so-called __Wald's Identity__ that the expectation of the random sum $S_N$ is actually given by the formula\n",
    "\n",
    "\\begin{equation}\n",
    "\\mathbb{E}[S_N] = \\mathbb{E}[N] \\cdot \\mathbb{E}[X_1] = 20 \\cdot \\$1,000 = \\$20,000.\n",
    "\\end{equation}\n",
    "\n",
    "Check via the empirical mean that\n",
    "\n",
    "$$\\frac{1}{M} \\sum_{m=1}^M s^{(m)}_N \\approx \\mathbb{E}[S_N] = \\$20,000$$\n",
    "\n",
    "where $s^{(1)}_N, s^{(2)}_N, \\ldots, s^{(M)}_N$ denote $M$ independent realizations (samples) from the random variable $S_N$. \n",
    "\n",
    "Use $M = 10, 100, 1000, 10000, 20000, 50000$ simulations.  "
   ]
  },
  {
   "cell_type": "markdown",
   "metadata": {},
   "source": [
    "That is, write a function <tt>MCsimulation(...)</tt> which uses the function <tt>simulator(...)</tt> from Step 2 to compute the empirical mean. \n",
    "\n",
    "\n",
    "Input: \n",
    "* <tt>averageClaimSize</tt>: Average USD amount per claim\n",
    "* <tt>averageNumberOfClaims</tt>: Average number of claims/accidents in 2020\n",
    "* <tt>M</tt>: Number of Simulations\n",
    "\n",
    "Output:\n",
    "* <tt>empricialMean</tt>: A real number in $\\mathbb{R}_+$."
   ]
  },
  {
   "cell_type": "code",
   "execution_count": 35,
   "metadata": {},
   "outputs": [],
   "source": [
    "def MCsimulation(averageClaimSize, averageNumberOfClaims, M): \n",
    "    \n",
    "    empricialMean=(sum(simu)/M)\n",
    "\n",
    "    return empricialMean\n",
    "\n"
   ]
  },
  {
   "cell_type": "code",
   "execution_count": 36,
   "metadata": {},
   "outputs": [
    {
     "data": {
      "text/plain": [
       "170396.03856932305"
      ]
     },
     "execution_count": 36,
     "metadata": {},
     "output_type": "execute_result"
    }
   ],
   "source": [
    "## TEST YOUR FUNCTION HERE\n",
    "MCsimulation(1000, 20, 1)"
   ]
  },
  {
   "cell_type": "code",
   "execution_count": 37,
   "metadata": {},
   "outputs": [
    {
     "name": "stdout",
     "output_type": "stream",
     "text": [
      "2960.3961430676936\n",
      "18296.03961430677\n",
      "19829.603961430676\n",
      "19982.96039614307\n",
      "19991.480198071535\n",
      "19996.592079228612\n"
     ]
    }
   ],
   "source": [
    "## Compute the absolute error\n",
    "print(np.absolute(MCsimulation(1000, 20, 10)-20000))\n",
    "print(np.absolute(MCsimulation(1000, 20, 100)-20000))\n",
    "print(np.absolute(MCsimulation(1000, 20, 1000)-20000))\n",
    "print(np.absolute(MCsimulation(1000, 20, 10000)-20000))\n",
    "print(np.absolute(MCsimulation(1000, 20, 20000)-20000))\n",
    "print(np.absolute(MCsimulation(1000, 20, 50000)-20000))"
   ]
  },
  {
   "cell_type": "code",
   "execution_count": null,
   "metadata": {},
   "outputs": [],
   "source": []
  }
 ],
 "metadata": {
  "kernelspec": {
   "display_name": "Python 3",
   "language": "python",
   "name": "python3"
  },
  "language_info": {
   "codemirror_mode": {
    "name": "ipython",
    "version": 3
   },
   "file_extension": ".py",
   "mimetype": "text/x-python",
   "name": "python",
   "nbconvert_exporter": "python",
   "pygments_lexer": "ipython3",
   "version": "3.7.3"
  }
 },
 "nbformat": 4,
 "nbformat_minor": 2
}
